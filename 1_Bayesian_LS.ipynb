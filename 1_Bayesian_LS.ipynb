{
 "cells": [
  {
   "cell_type": "code",
   "execution_count": 1,
   "id": "5ac4115e",
   "metadata": {},
   "outputs": [],
   "source": [
    "import numpy as np\n",
    "import matplotlib.pyplot as plt\n",
    "from scipy.stats import multivariate_normal"
   ]
  },
  {
   "cell_type": "code",
   "execution_count": 2,
   "id": "263660e7",
   "metadata": {},
   "outputs": [
    {
     "data": {
      "image/png": "[encoded data removed]",
      "text/plain": [
       "<Figure size 432x288 with 1 Axes>"
      ]
     },
     "metadata": {
      "needs_background": "light"
     },
     "output_type": "display_data"
    }
   ],
   "source": [
    "num_sample = 3\n",
    "intercept = -0.7\n",
    "sig_n = 0.2\n",
    "slope = 1\n",
    "x = np.random.rand(num_sample,1)\n",
    "y = (x*slope) + intercept + sig_n*np.random.randn(num_sample,1)\n",
    "\n",
    "x_t = np.random.rand(num_sample,1)\n",
    "y_t = (x_t*slope) + intercept + sig_n*np.random.randn(num_sample,1)\n",
    "\n",
    "\n",
    "plt.scatter(x, y)\n",
    "plt.scatter(x_t, y_t)\n",
    "plt.show()"
   ]
  },
  {
   "cell_type": "code",
   "execution_count": 3,
   "id": "e87f7bee",
   "metadata": {},
   "outputs": [],
   "source": [
    "X = np.concatenate((np.ones((num_sample,1)),x), axis=-1)\n",
    "X_t = np.concatenate((np.ones((num_sample,1)),x_t), axis=-1)"
   ]
  },
  {
   "cell_type": "markdown",
   "id": "b1fcf52a",
   "metadata": {},
   "source": [
    "### Let's assume gaussian distribution for Ws with mean $0$ and cov $I$\n",
    "\n",
    "$w \\sim \\mathcal{N}(0, \\Sigma_p = I) $"
   ]
  },
  {
   "cell_type": "code",
   "execution_count": 4,
   "id": "d54b75ed",
   "metadata": {},
   "outputs": [],
   "source": [
    "W_pri_Cov = np.eye(2)\n",
    "W_pri_mu = np.array([0,0])\n",
    "W_pri = multivariate_normal(W_pri_mu, W_pri_Cov)"
   ]
  },
  {
   "cell_type": "code",
   "execution_count": 15,
   "id": "9a92ae5b",
   "metadata": {},
   "outputs": [
    {
     "data": {
      "image/png": "[encoded data removed]",
      "text/plain": [
       "<Figure size 432x288 with 2 Axes>"
      ]
     },
     "metadata": {
      "needs_background": "light"
     },
     "output_type": "display_data"
    }
   ],
   "source": [
    "xx, yy = np.mgrid[-2:2:.01, -2:2:.01]\n",
    "pos = np.dstack((xx, yy))\n",
    "plt.contourf(xx, yy, W_pri.pdf(pos))\n",
    "plt.colorbar();\n",
    "plt.title('Prior Prob of W')\n",
    "plt.show()"
   ]
  },
  {
   "cell_type": "markdown",
   "id": "a1e83c33",
   "metadata": {},
   "source": [
    "# Calculating posterior "
   ]
  },
  {
   "cell_type": "markdown",
   "id": "caa25956",
   "metadata": {},
   "source": [
    "$posterior = \\frac{likelihood \\; x \\; prior}{marginal \\: likelihood}$"
   ]
  },
  {
   "cell_type": "markdown",
   "id": "8a139eaa",
   "metadata": {},
   "source": [
    "$p (w|y,X) = \\frac{p(y|X, w) \\; p(w)}{p(y|X)} $"
   ]
  },
  {
   "cell_type": "markdown",
   "id": "dfbbb9a5",
   "metadata": {},
   "source": [
    "$p(w|y,X) = \\sigma_{n}^{-2}(\\sigma_{n}^{-2} XX^{T} + \\Sigma^{-1}_{p})^{-1}Xy$"
   ]
  },
  {
   "cell_type": "code",
   "execution_count": 6,
   "id": "b85e5306",
   "metadata": {},
   "outputs": [],
   "source": [
    "A = ((sig_n**-2)*X.T@X) + np.linalg.inv(W_pri_Cov)"
   ]
  },
  {
   "cell_type": "code",
   "execution_count": 7,
   "id": "c67c3a83",
   "metadata": {},
   "outputs": [],
   "source": [
    "# Posterior distribution of W \n",
    "W_pos_Cov = np.linalg.inv(A)\n",
    "W_pos_mu = (sig_n**-2)*W_pos_Cov@X.T@y\n",
    "W_pos = multivariate_normal(W_pos_mu.reshape(-1,), W_pos_Cov)"
   ]
  },
  {
   "cell_type": "code",
   "execution_count": 8,
   "id": "024d9584",
   "metadata": {},
   "outputs": [
    {
     "name": "stdout",
     "output_type": "stream",
     "text": [
      "Estimated w\n"
     ]
    },
    {
     "data": {
      "text/plain": [
       "array([[-0.72159368],\n",
       "       [ 1.03867551]])"
      ]
     },
     "execution_count": 8,
     "metadata": {},
     "output_type": "execute_result"
    }
   ],
   "source": [
    "print('Estimated w')\n",
    "W_pos_mu"
   ]
  },
  {
   "cell_type": "code",
   "execution_count": 9,
   "id": "c48af291",
   "metadata": {},
   "outputs": [],
   "source": [
    "xx, yy = np.mgrid[-2:2:.01, -2:2:.01]\n",
    "pos = np.dstack((xx, yy))"
   ]
  },
  {
   "cell_type": "code",
   "execution_count": 14,
   "id": "c2abd943",
   "metadata": {},
   "outputs": [
    {
     "data": {
      "image/png": "[encoded data removed]",
      "text/plain": [
       "<Figure size 432x288 with 2 Axes>"
      ]
     },
     "metadata": {
      "needs_background": "light"
     },
     "output_type": "display_data"
    }
   ],
   "source": [
    "plt.contourf(xx, yy, W_pos.pdf(pos))\n",
    "plt.colorbar();\n",
    "plt.title('Posterior Prob of W')\n",
    "plt.show()"
   ]
  },
  {
   "cell_type": "code",
   "execution_count": 11,
   "id": "df4c334a",
   "metadata": {},
   "outputs": [],
   "source": [
    "y_pred_Cov = X_t @W_pos_Cov@X_t.T\n",
    "y_pred_mu = (sig_n**-2)*X_t @W_pos_Cov@X.T@y"
   ]
  },
  {
   "cell_type": "code",
   "execution_count": 12,
   "id": "6ec508ce",
   "metadata": {},
   "outputs": [
    {
     "name": "stdout",
     "output_type": "stream",
     "text": [
      "R2\n"
     ]
    },
    {
     "data": {
      "text/plain": [
       "0.7462068579381047"
      ]
     },
     "execution_count": 12,
     "metadata": {},
     "output_type": "execute_result"
    }
   ],
   "source": [
    "print('R2')\n",
    "1 - (np.sum((y_t-y_pred_mu)**2)/np.sum(y_t**2))"
   ]
  }
 ],
 "metadata": {
  "kernelspec": {
   "display_name": "Python 3",
   "language": "python",
   "name": "python3"
  },
  "language_info": {
   "codemirror_mode": {
    "name": "ipython",
    "version": 3
   },
   "file_extension": ".py",
   "mimetype": "text/x-python",
   "name": "python",
   "nbconvert_exporter": "python",
   "pygments_lexer": "ipython3",
   "version": "3.7.10"
  }
 },
 "nbformat": 4,
 "nbformat_minor": 5
}
